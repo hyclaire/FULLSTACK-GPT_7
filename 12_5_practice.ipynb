{
 "cells": [
  {
   "cell_type": "code",
   "execution_count": null,
   "metadata": {},
   "outputs": [
    {
     "name": "stdout",
     "output_type": "stream",
     "text": [
      "\n",
      "\n",
      "\u001b[1m> Entering new AgentExecutor chain...\u001b[0m\n",
      "\u001b[32;1m\u001b[1;3m\n",
      "Invoking: `StockMarketSymbolSearchTool` with `{'query': 'Cloudflare stock'}`\n",
      "\n",
      "\n",
      "\u001b[0m\u001b[36;1m\u001b[1;3mGet the latest information on Cloudflare Inc (NET), a software company that offers security and web performance solutions. See its stock price, valuation, financials, competitors, and more. Shares of internet security and content delivery network Cloudflare (NYSE:NET) jumped 5.3% in the morning session after Citi analysts upgraded the stock's rating from Neutral to Buy and raised the ... Cloudflare also converted 11% of its revenue into free cash flow in Q3. Investors are pricing in more growth Investors rewarded the company's strong financial results in 2024 by rating the shares ... Cloudflare has a large network of data centers that helps reduce latency and speed up performance for things like video streaming and cloud applications. The stock doubled in value since bottoming ... Cloudflare stock is on the verge of a bullish breakout. Cloudflare's stock price is at an important resistance level as the market assesses whether it has more upside after soaring 41% in 2024. It was trading at $112.55, a few points below the key resistan...\u001b[0m\u001b[32;1m\u001b[1;3mCloudflare Inc. (NET) is a software company that offers security and web performance solutions. The stock has been performing well, with shares of Cloudflare (NYSE: NET) jumping 5.3% in the morning session after an upgrade from Citi analysts. Cloudflare also converted 11% of its revenue into free cash flow in Q3.\n",
      "\n",
      "Investors are pricing in more growth for Cloudflare, and the company's strong financial results in 2024 have been well-received by the market. Cloudflare has a large network of data centers that help reduce latency and speed up performance for services like video streaming and cloud applications.\n",
      "\n",
      "Cloudflare's stock price is currently at an important resistance level, and it is on the verge of a bullish breakout. The stock has doubled in value since bottoming out and was trading at $112.55.\n",
      "\n",
      "The stock symbol for Cloudflare is NET. \n",
      "\n",
      "When considering Cloudflare as a potential investment, it's important to conduct further research on the company's financial health, growth prospects, competition, and market trends to make an informed decision.\u001b[0m\n",
      "\n",
      "\u001b[1m> Finished chain.\u001b[0m\n"
     ]
    },
    {
     "data": {
      "text/plain": [
       "{'input': \"Give me information on Cloudflare's stock and help me analyze if it's a potential good investment. Also tell me what symbol does the stock have.\",\n",
       " 'output': \"Cloudflare Inc. (NET) is a software company that offers security and web performance solutions. The stock has been performing well, with shares of Cloudflare (NYSE: NET) jumping 5.3% in the morning session after an upgrade from Citi analysts. Cloudflare also converted 11% of its revenue into free cash flow in Q3.\\n\\nInvestors are pricing in more growth for Cloudflare, and the company's strong financial results in 2024 have been well-received by the market. Cloudflare has a large network of data centers that help reduce latency and speed up performance for services like video streaming and cloud applications.\\n\\nCloudflare's stock price is currently at an important resistance level, and it is on the verge of a bullish breakout. The stock has doubled in value since bottoming out and was trading at $112.55.\\n\\nThe stock symbol for Cloudflare is NET. \\n\\nWhen considering Cloudflare as a potential investment, it's important to conduct further research on the company's financial health, growth prospects, competition, and market trends to make an informed decision.\"}"
      ]
     },
     "execution_count": 1,
     "metadata": {},
     "output_type": "execute_result"
    }
   ],
   "source": [
    "from typing import Any, Type\n",
    "from langchain.chat_models import ChatOpenAI\n",
    "from langchain.tools import BaseTool\n",
    "from pydantic import BaseModel, Field\n",
    "from langchain.agents import initialize_agent, AgentType\n",
    "from langchain.utilities import DuckDuckGoSearchAPIWrapper\n",
    "\n",
    "llm = ChatOpenAI(temperature=0.1)\n",
    "\n",
    "\n",
    "class StockMarketSymbolSearchToolArgsSchema(BaseModel):\n",
    "    query: str = Field(\n",
    "        description=\"The query you will search for.Example query: Stock Market Symbol for Apple Company\"\n",
    "    )\n",
    "\n",
    "\n",
    "class StockMarketSymbolSearchTool(BaseTool):\n",
    "    name = \"StockMarketSymbolSearchTool\"\n",
    "    description = \"\"\"\n",
    "    Use this tool to find the stock market symbol for a company.\n",
    "    It takes a query as an argument.\n",
    "    \n",
    "    \"\"\"\n",
    "    args_schema: Type[\n",
    "        StockMarketSymbolSearchToolArgsSchema\n",
    "    ] = StockMarketSymbolSearchToolArgsSchema\n",
    "\n",
    "    def _run(self, query):\n",
    "        ddg = DuckDuckGoSearchAPIWrapper()\n",
    "        return ddg.run(query)\n",
    "\n",
    "\n",
    "agent = initialize_agent(\n",
    "    llm=llm,\n",
    "    verbose=True,\n",
    "    agent=AgentType.OPENAI_FUNCTIONS,\n",
    "    handle_parsing_errors=True,\n",
    "    tools=[\n",
    "        StockMarketSymbolSearchTool(),\n",
    "    ],\n",
    ")\n",
    "\n",
    "prompt = \"Give me information on Cloudflare's stock and help me analyze if it's a potential good investment. Also tell me what symbol does the stock have.\"\n",
    "\n",
    "agent.invoke(prompt)"
   ]
  }
 ],
 "metadata": {
  "kernelspec": {
   "display_name": "env",
   "language": "python",
   "name": "python3"
  },
  "language_info": {
   "codemirror_mode": {
    "name": "ipython",
    "version": 3
   },
   "file_extension": ".py",
   "mimetype": "text/x-python",
   "name": "python",
   "nbconvert_exporter": "python",
   "pygments_lexer": "ipython3",
   "version": "3.11.11"
  }
 },
 "nbformat": 4,
 "nbformat_minor": 2
}
